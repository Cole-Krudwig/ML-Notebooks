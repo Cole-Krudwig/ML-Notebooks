{
  "nbformat": 4,
  "nbformat_minor": 0,
  "metadata": {
    "colab": {
      "provenance": [],
      "gpuType": "T4",
      "authorship_tag": "ABX9TyM/WufLQGIe8Dg77NhirdF5",
      "include_colab_link": true
    },
    "kernelspec": {
      "name": "python3",
      "display_name": "Python 3"
    },
    "language_info": {
      "name": "python"
    },
    "widgets": {
      "application/vnd.jupyter.widget-state+json": {
        "4325fe26ea6348eba24e40c0c7b07708": {
          "model_module": "@jupyter-widgets/controls",
          "model_name": "HBoxModel",
          "model_module_version": "1.5.0",
          "state": {
            "_dom_classes": [],
            "_model_module": "@jupyter-widgets/controls",
            "_model_module_version": "1.5.0",
            "_model_name": "HBoxModel",
            "_view_count": null,
            "_view_module": "@jupyter-widgets/controls",
            "_view_module_version": "1.5.0",
            "_view_name": "HBoxView",
            "box_style": "",
            "children": [
              "IPY_MODEL_fe48ac4e57374a7f956361f831a76863",
              "IPY_MODEL_2e50166f93a14cb3a8ef021551edbdbf",
              "IPY_MODEL_6875a518a93f473580c4e0182d7371a9"
            ],
            "layout": "IPY_MODEL_7e8bcd2b7ada4c218e775a76dd38aa16"
          }
        },
        "fe48ac4e57374a7f956361f831a76863": {
          "model_module": "@jupyter-widgets/controls",
          "model_name": "HTMLModel",
          "model_module_version": "1.5.0",
          "state": {
            "_dom_classes": [],
            "_model_module": "@jupyter-widgets/controls",
            "_model_module_version": "1.5.0",
            "_model_name": "HTMLModel",
            "_view_count": null,
            "_view_module": "@jupyter-widgets/controls",
            "_view_module_version": "1.5.0",
            "_view_name": "HTMLView",
            "description": "",
            "description_tooltip": null,
            "layout": "IPY_MODEL_7983ef4e606247e7ba9737bb079262a0",
            "placeholder": "​",
            "style": "IPY_MODEL_e0bcab1cbb254f629d032f5b9baea03a",
            "value": "100%"
          }
        },
        "2e50166f93a14cb3a8ef021551edbdbf": {
          "model_module": "@jupyter-widgets/controls",
          "model_name": "FloatProgressModel",
          "model_module_version": "1.5.0",
          "state": {
            "_dom_classes": [],
            "_model_module": "@jupyter-widgets/controls",
            "_model_module_version": "1.5.0",
            "_model_name": "FloatProgressModel",
            "_view_count": null,
            "_view_module": "@jupyter-widgets/controls",
            "_view_module_version": "1.5.0",
            "_view_name": "ProgressView",
            "bar_style": "success",
            "description": "",
            "description_tooltip": null,
            "layout": "IPY_MODEL_d9304d78c73748459ad032fd765f2c27",
            "max": 20,
            "min": 0,
            "orientation": "horizontal",
            "style": "IPY_MODEL_dcde4c387e3c4d75b45108718bfe227c",
            "value": 20
          }
        },
        "6875a518a93f473580c4e0182d7371a9": {
          "model_module": "@jupyter-widgets/controls",
          "model_name": "HTMLModel",
          "model_module_version": "1.5.0",
          "state": {
            "_dom_classes": [],
            "_model_module": "@jupyter-widgets/controls",
            "_model_module_version": "1.5.0",
            "_model_name": "HTMLModel",
            "_view_count": null,
            "_view_module": "@jupyter-widgets/controls",
            "_view_module_version": "1.5.0",
            "_view_name": "HTMLView",
            "description": "",
            "description_tooltip": null,
            "layout": "IPY_MODEL_d8ddef45565c429b9a465bb007025b45",
            "placeholder": "​",
            "style": "IPY_MODEL_628b754a926f43299460b20edd43f92f",
            "value": " 20/20 [04:09&lt;00:00, 12.28s/it]"
          }
        },
        "7e8bcd2b7ada4c218e775a76dd38aa16": {
          "model_module": "@jupyter-widgets/base",
          "model_name": "LayoutModel",
          "model_module_version": "1.2.0",
          "state": {
            "_model_module": "@jupyter-widgets/base",
            "_model_module_version": "1.2.0",
            "_model_name": "LayoutModel",
            "_view_count": null,
            "_view_module": "@jupyter-widgets/base",
            "_view_module_version": "1.2.0",
            "_view_name": "LayoutView",
            "align_content": null,
            "align_items": null,
            "align_self": null,
            "border": null,
            "bottom": null,
            "display": null,
            "flex": null,
            "flex_flow": null,
            "grid_area": null,
            "grid_auto_columns": null,
            "grid_auto_flow": null,
            "grid_auto_rows": null,
            "grid_column": null,
            "grid_gap": null,
            "grid_row": null,
            "grid_template_areas": null,
            "grid_template_columns": null,
            "grid_template_rows": null,
            "height": null,
            "justify_content": null,
            "justify_items": null,
            "left": null,
            "margin": null,
            "max_height": null,
            "max_width": null,
            "min_height": null,
            "min_width": null,
            "object_fit": null,
            "object_position": null,
            "order": null,
            "overflow": null,
            "overflow_x": null,
            "overflow_y": null,
            "padding": null,
            "right": null,
            "top": null,
            "visibility": null,
            "width": null
          }
        },
        "7983ef4e606247e7ba9737bb079262a0": {
          "model_module": "@jupyter-widgets/base",
          "model_name": "LayoutModel",
          "model_module_version": "1.2.0",
          "state": {
            "_model_module": "@jupyter-widgets/base",
            "_model_module_version": "1.2.0",
            "_model_name": "LayoutModel",
            "_view_count": null,
            "_view_module": "@jupyter-widgets/base",
            "_view_module_version": "1.2.0",
            "_view_name": "LayoutView",
            "align_content": null,
            "align_items": null,
            "align_self": null,
            "border": null,
            "bottom": null,
            "display": null,
            "flex": null,
            "flex_flow": null,
            "grid_area": null,
            "grid_auto_columns": null,
            "grid_auto_flow": null,
            "grid_auto_rows": null,
            "grid_column": null,
            "grid_gap": null,
            "grid_row": null,
            "grid_template_areas": null,
            "grid_template_columns": null,
            "grid_template_rows": null,
            "height": null,
            "justify_content": null,
            "justify_items": null,
            "left": null,
            "margin": null,
            "max_height": null,
            "max_width": null,
            "min_height": null,
            "min_width": null,
            "object_fit": null,
            "object_position": null,
            "order": null,
            "overflow": null,
            "overflow_x": null,
            "overflow_y": null,
            "padding": null,
            "right": null,
            "top": null,
            "visibility": null,
            "width": null
          }
        },
        "e0bcab1cbb254f629d032f5b9baea03a": {
          "model_module": "@jupyter-widgets/controls",
          "model_name": "DescriptionStyleModel",
          "model_module_version": "1.5.0",
          "state": {
            "_model_module": "@jupyter-widgets/controls",
            "_model_module_version": "1.5.0",
            "_model_name": "DescriptionStyleModel",
            "_view_count": null,
            "_view_module": "@jupyter-widgets/base",
            "_view_module_version": "1.2.0",
            "_view_name": "StyleView",
            "description_width": ""
          }
        },
        "d9304d78c73748459ad032fd765f2c27": {
          "model_module": "@jupyter-widgets/base",
          "model_name": "LayoutModel",
          "model_module_version": "1.2.0",
          "state": {
            "_model_module": "@jupyter-widgets/base",
            "_model_module_version": "1.2.0",
            "_model_name": "LayoutModel",
            "_view_count": null,
            "_view_module": "@jupyter-widgets/base",
            "_view_module_version": "1.2.0",
            "_view_name": "LayoutView",
            "align_content": null,
            "align_items": null,
            "align_self": null,
            "border": null,
            "bottom": null,
            "display": null,
            "flex": null,
            "flex_flow": null,
            "grid_area": null,
            "grid_auto_columns": null,
            "grid_auto_flow": null,
            "grid_auto_rows": null,
            "grid_column": null,
            "grid_gap": null,
            "grid_row": null,
            "grid_template_areas": null,
            "grid_template_columns": null,
            "grid_template_rows": null,
            "height": null,
            "justify_content": null,
            "justify_items": null,
            "left": null,
            "margin": null,
            "max_height": null,
            "max_width": null,
            "min_height": null,
            "min_width": null,
            "object_fit": null,
            "object_position": null,
            "order": null,
            "overflow": null,
            "overflow_x": null,
            "overflow_y": null,
            "padding": null,
            "right": null,
            "top": null,
            "visibility": null,
            "width": null
          }
        },
        "dcde4c387e3c4d75b45108718bfe227c": {
          "model_module": "@jupyter-widgets/controls",
          "model_name": "ProgressStyleModel",
          "model_module_version": "1.5.0",
          "state": {
            "_model_module": "@jupyter-widgets/controls",
            "_model_module_version": "1.5.0",
            "_model_name": "ProgressStyleModel",
            "_view_count": null,
            "_view_module": "@jupyter-widgets/base",
            "_view_module_version": "1.2.0",
            "_view_name": "StyleView",
            "bar_color": null,
            "description_width": ""
          }
        },
        "d8ddef45565c429b9a465bb007025b45": {
          "model_module": "@jupyter-widgets/base",
          "model_name": "LayoutModel",
          "model_module_version": "1.2.0",
          "state": {
            "_model_module": "@jupyter-widgets/base",
            "_model_module_version": "1.2.0",
            "_model_name": "LayoutModel",
            "_view_count": null,
            "_view_module": "@jupyter-widgets/base",
            "_view_module_version": "1.2.0",
            "_view_name": "LayoutView",
            "align_content": null,
            "align_items": null,
            "align_self": null,
            "border": null,
            "bottom": null,
            "display": null,
            "flex": null,
            "flex_flow": null,
            "grid_area": null,
            "grid_auto_columns": null,
            "grid_auto_flow": null,
            "grid_auto_rows": null,
            "grid_column": null,
            "grid_gap": null,
            "grid_row": null,
            "grid_template_areas": null,
            "grid_template_columns": null,
            "grid_template_rows": null,
            "height": null,
            "justify_content": null,
            "justify_items": null,
            "left": null,
            "margin": null,
            "max_height": null,
            "max_width": null,
            "min_height": null,
            "min_width": null,
            "object_fit": null,
            "object_position": null,
            "order": null,
            "overflow": null,
            "overflow_x": null,
            "overflow_y": null,
            "padding": null,
            "right": null,
            "top": null,
            "visibility": null,
            "width": null
          }
        },
        "628b754a926f43299460b20edd43f92f": {
          "model_module": "@jupyter-widgets/controls",
          "model_name": "DescriptionStyleModel",
          "model_module_version": "1.5.0",
          "state": {
            "_model_module": "@jupyter-widgets/controls",
            "_model_module_version": "1.5.0",
            "_model_name": "DescriptionStyleModel",
            "_view_count": null,
            "_view_module": "@jupyter-widgets/base",
            "_view_module_version": "1.2.0",
            "_view_name": "StyleView",
            "description_width": ""
          }
        }
      }
    },
    "accelerator": "GPU"
  },
  "cells": [
    {
      "cell_type": "markdown",
      "metadata": {
        "id": "view-in-github",
        "colab_type": "text"
      },
      "source": [
        "<a href=\"https://colab.research.google.com/github/Cole-Krudwig/ML-Notebooks/blob/main/CIFAR_10_Solution.ipynb\" target=\"_parent\"><img src=\"https://colab.research.google.com/assets/colab-badge.svg\" alt=\"Open In Colab\"/></a>"
      ]
    },
    {
      "cell_type": "code",
      "execution_count": null,
      "metadata": {
        "colab": {
          "base_uri": "https://localhost:8080/"
        },
        "id": "CSdPWG5qMRwc",
        "outputId": "34ea1531-91e7-409a-9153-d042fce4852b"
      },
      "outputs": [
        {
          "output_type": "stream",
          "name": "stdout",
          "text": [
            "2.0.1+cu118\n",
            "0.15.2+cu118\n"
          ]
        }
      ],
      "source": [
        "# Import Libraries\n",
        "import torch\n",
        "from torch import nn, optim\n",
        "\n",
        "# torchvision\n",
        "import torchvision\n",
        "from torchvision import datasets\n",
        "from torchvision import transforms\n",
        "from torchvision.transforms import ToTensor\n",
        "\n",
        "# Import Others\n",
        "import matplotlib.pyplot as plt\n",
        "import numpy as np\n",
        "from time import time\n",
        "from tqdm.auto import tqdm\n",
        "import random\n",
        "\n",
        "# Check versions\n",
        "print(torch.__version__)\n",
        "print(torchvision.__version__)"
      ]
    },
    {
      "cell_type": "code",
      "source": [
        "device = \"cuda\" if torch.cuda.is_available() else \"cpu\"\n",
        "device"
      ],
      "metadata": {
        "colab": {
          "base_uri": "https://localhost:8080/",
          "height": 35
        },
        "id": "UUoVfPzkMYHp",
        "outputId": "b745ca91-dd75-44af-807e-866c4d8579fe"
      },
      "execution_count": null,
      "outputs": [
        {
          "output_type": "execute_result",
          "data": {
            "text/plain": [
              "'cuda'"
            ],
            "application/vnd.google.colaboratory.intrinsic+json": {
              "type": "string"
            }
          },
          "metadata": {},
          "execution_count": 75
        }
      ]
    },
    {
      "cell_type": "code",
      "source": [
        "# Load CIFAR-10\n",
        "train_data = datasets.CIFAR10(\n",
        "    root=\"data\",\n",
        "    train=True,\n",
        "    download=True,\n",
        "    transform=ToTensor(),\n",
        "    target_transform=None\n",
        ")\n",
        "\n",
        "test_data = datasets.CIFAR10(\n",
        "    root=\"data\",\n",
        "    train=False,\n",
        "    download=True,\n",
        "    transform=ToTensor(),\n",
        "    target_transform=None\n",
        ")"
      ],
      "metadata": {
        "colab": {
          "base_uri": "https://localhost:8080/"
        },
        "id": "apfwla1OMcaF",
        "outputId": "76eb4244-5bd0-4df0-a8b4-c0daa7c516a8"
      },
      "execution_count": null,
      "outputs": [
        {
          "output_type": "stream",
          "name": "stdout",
          "text": [
            "Files already downloaded and verified\n",
            "Files already downloaded and verified\n"
          ]
        }
      ]
    },
    {
      "cell_type": "code",
      "source": [
        "# Data Loader\n",
        "train_loader = torch.utils.data.DataLoader(train_data, batch_size=64, shuffle=True)\n",
        "test_loader = torch.utils.data.DataLoader(test_data, batch_size=64, shuffle=True)"
      ],
      "metadata": {
        "id": "MQaKpmL2NIHr"
      },
      "execution_count": null,
      "outputs": []
    },
    {
      "cell_type": "code",
      "source": [
        "dataiter = iter(train_loader)\n",
        "images, labels = next(dataiter)\n",
        "\n",
        "print(images.shape)\n",
        "print(labels.shape)"
      ],
      "metadata": {
        "colab": {
          "base_uri": "https://localhost:8080/"
        },
        "id": "JGp-J7O_NLOx",
        "outputId": "94771379-e5d8-4bb4-89ee-6f9b09e90f85"
      },
      "execution_count": null,
      "outputs": [
        {
          "output_type": "stream",
          "name": "stdout",
          "text": [
            "torch.Size([64, 3, 32, 32])\n",
            "torch.Size([64])\n"
          ]
        }
      ]
    },
    {
      "cell_type": "code",
      "source": [
        "rand_image = random.randint(0, 64-1)\n",
        "image_np = images[rand_image].cpu().numpy().transpose((1, 2, 0))\n",
        "\n",
        "plt.imshow(image_np)\n",
        "plt.show()"
      ],
      "metadata": {
        "colab": {
          "base_uri": "https://localhost:8080/",
          "height": 430
        },
        "id": "zLUxuC9cNO5E",
        "outputId": "d8e01174-9ab7-45cd-b0d7-01d3d83292c9"
      },
      "execution_count": null,
      "outputs": [
        {
          "output_type": "display_data",
          "data": {
            "text/plain": [
              "<Figure size 640x480 with 1 Axes>"
            ],
            "image/png": "[encoded data removed]"
          },
          "metadata": {}
        }
      ]
    },
    {
      "cell_type": "code",
      "source": [
        "class_names = train_data.classes\n",
        "class_names"
      ],
      "metadata": {
        "colab": {
          "base_uri": "https://localhost:8080/"
        },
        "id": "CRFAXZOlPq_r",
        "outputId": "1e1d7152-3097-4a17-b822-c051adcb12db"
      },
      "execution_count": null,
      "outputs": [
        {
          "output_type": "execute_result",
          "data": {
            "text/plain": [
              "['airplane',\n",
              " 'automobile',\n",
              " 'bird',\n",
              " 'cat',\n",
              " 'deer',\n",
              " 'dog',\n",
              " 'frog',\n",
              " 'horse',\n",
              " 'ship',\n",
              " 'truck']"
            ]
          },
          "metadata": {},
          "execution_count": 80
        }
      ]
    },
    {
      "cell_type": "code",
      "source": [
        "class CIFARModelV0(nn.Module):\n",
        "    def __init__(self):\n",
        "        super(CIFARModelV0, self).__init__()\n",
        "        self.conv1 = nn.Conv2d(3, 32, 3, padding=1)\n",
        "        self.conv2 = nn.Conv2d(32, 64, 3, padding=1)\n",
        "        self.conv3 = nn.Conv2d(64, 128, 3, padding=1)\n",
        "        self.fc1 = nn.Linear(128 * 4 * 4, 512)\n",
        "        self.fc2 = nn.Linear(512, 10)\n",
        "\n",
        "    def forward(self, x):\n",
        "        x = nn.functional.relu(self.conv1(x))\n",
        "        x = nn.functional.max_pool2d(x, 2)\n",
        "        x = nn.functional.relu(self.conv2(x))\n",
        "        x = nn.functional.max_pool2d(x, 2)\n",
        "        x = nn.functional.relu(self.conv3(x))\n",
        "        x = nn.functional.max_pool2d(x, 2)\n",
        "        x = x.view(-1, 128 * 4 * 4)\n",
        "        x = nn.functional.relu(self.fc1(x))\n",
        "        x = self.fc2(x)\n",
        "        return x\n",
        "\n"
      ],
      "metadata": {
        "id": "ChrnDHqwOlg8"
      },
      "execution_count": null,
      "outputs": []
    },
    {
      "cell_type": "code",
      "source": [
        "model_0 = CIFARModelV0().to(device)\n",
        "model_0"
      ],
      "metadata": {
        "colab": {
          "base_uri": "https://localhost:8080/"
        },
        "id": "efdyqtdiPaWT",
        "outputId": "5bc86cc0-03cc-463b-e1fe-d17e48b437d3"
      },
      "execution_count": null,
      "outputs": [
        {
          "output_type": "execute_result",
          "data": {
            "text/plain": [
              "CIFARModelV0(\n",
              "  (conv1): Conv2d(3, 32, kernel_size=(3, 3), stride=(1, 1), padding=(1, 1))\n",
              "  (conv2): Conv2d(32, 64, kernel_size=(3, 3), stride=(1, 1), padding=(1, 1))\n",
              "  (conv3): Conv2d(64, 128, kernel_size=(3, 3), stride=(1, 1), padding=(1, 1))\n",
              "  (fc1): Linear(in_features=2048, out_features=512, bias=True)\n",
              "  (fc2): Linear(in_features=512, out_features=10, bias=True)\n",
              ")"
            ]
          },
          "metadata": {},
          "execution_count": 105
        }
      ]
    },
    {
      "cell_type": "code",
      "source": [
        "from timeit import default_timer as timer\n",
        "def print_train_time(start: float,\n",
        "                     end: float,\n",
        "                     device: torch.device = None):\n",
        "  \"\"\"Prints difference between start and end time\"\"\"\n",
        "  total_time = end-start\n",
        "  print(f\"Train time on {device}: {total_time:.3f} seconds\")\n",
        "  return total_time"
      ],
      "metadata": {
        "id": "LPn6_C8cP1mQ"
      },
      "execution_count": null,
      "outputs": []
    },
    {
      "cell_type": "code",
      "source": [
        "def accuracy_fn(y_true, y_pred):\n",
        "    \"\"\"Calculates accuracy between truth labels and predictions.\n",
        "\n",
        "    Args:\n",
        "        y_true (torch.Tensor): Truth labels for predictions.\n",
        "        y_pred (torch.Tensor): Predictions to be compared to predictions.\n",
        "\n",
        "    Returns:\n",
        "        [torch.float]: Accuracy value between y_true and y_pred, e.g. 78.45\n",
        "    \"\"\"\n",
        "    correct = torch.eq(y_true, y_pred).sum().item()\n",
        "    acc = (correct / len(y_pred)) * 100\n",
        "    return acc"
      ],
      "metadata": {
        "id": "YjlHQCPeP3aQ"
      },
      "execution_count": null,
      "outputs": []
    },
    {
      "cell_type": "code",
      "source": [
        "# Setup loss function and optimizer\n",
        "loss_fn = nn.CrossEntropyLoss()\n",
        "optimizer = torch.optim.SGD(params=model_0.parameters(), lr=0.1)"
      ],
      "metadata": {
        "id": "NN0vifzgP49y"
      },
      "execution_count": null,
      "outputs": []
    },
    {
      "cell_type": "code",
      "source": [
        "def train_test_loop(epochs, model):\n",
        "  train_time_start_on_cpu = timer()\n",
        "  for e in tqdm(range(epochs)):\n",
        "    train_loss = 0\n",
        "    for batch, (images, labels) in enumerate(train_loader):\n",
        "\n",
        "      # Put on Target Device\n",
        "      images, labels = images.to(device), labels.to(device)\n",
        "\n",
        "      # Flatten MNIST images into a 784 long vector\n",
        "      #images = images.view(images.shape[0], -1)\n",
        "\n",
        "      # Forward Pass\n",
        "      image_prediction = model(images)\n",
        "\n",
        "      # Calculate Loss\n",
        "      loss = loss_fn(image_prediction, labels)\n",
        "      train_loss += loss_fn(image_prediction, labels)\n",
        "\n",
        "      # Optimizer Zero Grad\n",
        "      optimizer.zero_grad()\n",
        "\n",
        "      # Loss Backward\n",
        "      loss.backward()\n",
        "\n",
        "      # Optimizer Step\n",
        "      optimizer.step()\n",
        "\n",
        "      # Printing\n",
        "      if batch % 200 == 0:\n",
        "        print(f\"Looked at {batch * len(images)}/{len(train_loader.dataset)} samples.\")\n",
        "\n",
        "    train_loss /= len(train_loader)\n",
        "\n",
        "    # Testing\n",
        "    test_loss, test_acc = 0, 0\n",
        "    model.eval()\n",
        "    with torch.inference_mode():\n",
        "      for images_test, labels_test in test_loader:\n",
        "\n",
        "        # Put on Target Device\n",
        "        images_test, labels_test = images_test.to(device), labels_test.to(device)\n",
        "\n",
        "        # Flatten MNIST images into a 784 long vector\n",
        "        #images_test = images_test.view(images_test.shape[0], -1)\n",
        "\n",
        "        # 1. Forward Pass\n",
        "        test_prediction = model(images_test)\n",
        "\n",
        "        # 2. Calculate Loss\n",
        "        test_loss += loss_fn(test_prediction, labels_test)\n",
        "\n",
        "        # 3. Calculate Accuracy\n",
        "        test_acc += accuracy_fn(y_true=labels_test, y_pred=test_prediction.argmax(dim=1))\n",
        "\n",
        "      # Calculate the test loss and accuracy averages\n",
        "      test_loss /= len(test_loader)\n",
        "      test_acc /= len(test_loader)\n",
        "\n",
        "    # Printing\n",
        "    print(f\"\\nTrain loss: {train_loss:.5f} | Test loss: {test_loss:.5f}, Test acc: {test_acc:.2f}%\\n\")\n",
        "\n",
        "  # Calculate training time\n",
        "  train_time_end_on_cpu = timer()\n",
        "  total_train_time_model_0 = print_train_time(start=train_time_start_on_cpu,\n",
        "                                            end=train_time_end_on_cpu,\n",
        "                                            device=str(next(model_0.parameters()).device))\n"
      ],
      "metadata": {
        "id": "8JiTmJLUP8pY"
      },
      "execution_count": null,
      "outputs": []
    },
    {
      "cell_type": "code",
      "source": [
        "epochs = 20\n",
        "model = model_0\n",
        "\n",
        "train_test_loop(epochs, model)"
      ],
      "metadata": {
        "colab": {
          "base_uri": "https://localhost:8080/",
          "height": 1000,
          "referenced_widgets": [
            "4325fe26ea6348eba24e40c0c7b07708",
            "fe48ac4e57374a7f956361f831a76863",
            "2e50166f93a14cb3a8ef021551edbdbf",
            "6875a518a93f473580c4e0182d7371a9",
            "7e8bcd2b7ada4c218e775a76dd38aa16",
            "7983ef4e606247e7ba9737bb079262a0",
            "e0bcab1cbb254f629d032f5b9baea03a",
            "d9304d78c73748459ad032fd765f2c27",
            "dcde4c387e3c4d75b45108718bfe227c",
            "d8ddef45565c429b9a465bb007025b45",
            "628b754a926f43299460b20edd43f92f"
          ]
        },
        "id": "bim_nixcP_07",
        "outputId": "9f0e96ae-2389-4c03-c109-3ae7c53f9d96"
      },
      "execution_count": null,
      "outputs": [
        {
          "output_type": "display_data",
          "data": {
            "text/plain": [
              "  0%|          | 0/20 [00:00<?, ?it/s]"
            ],
            "application/vnd.jupyter.widget-view+json": {
              "version_major": 2,
              "version_minor": 0,
              "model_id": "4325fe26ea6348eba24e40c0c7b07708"
            }
          },
          "metadata": {}
        },
        {
          "output_type": "stream",
          "name": "stdout",
          "text": [
            "Looked at 0/50000 samples.\n",
            "Looked at 12800/50000 samples.\n",
            "Looked at 25600/50000 samples.\n",
            "Looked at 38400/50000 samples.\n",
            "\n",
            "Train loss: 1.93122 | Test loss: 1.84767, Test acc: 33.25%\n",
            "\n",
            "Looked at 0/50000 samples.\n",
            "Looked at 12800/50000 samples.\n",
            "Looked at 25600/50000 samples.\n",
            "Looked at 38400/50000 samples.\n",
            "\n",
            "Train loss: 1.42737 | Test loss: 1.49215, Test acc: 46.36%\n",
            "\n",
            "Looked at 0/50000 samples.\n",
            "Looked at 12800/50000 samples.\n",
            "Looked at 25600/50000 samples.\n",
            "Looked at 38400/50000 samples.\n",
            "\n",
            "Train loss: 1.18227 | Test loss: 1.38359, Test acc: 50.75%\n",
            "\n",
            "Looked at 0/50000 samples.\n",
            "Looked at 12800/50000 samples.\n",
            "Looked at 25600/50000 samples.\n",
            "Looked at 38400/50000 samples.\n",
            "\n",
            "Train loss: 0.98588 | Test loss: 0.99461, Test acc: 65.39%\n",
            "\n",
            "Looked at 0/50000 samples.\n",
            "Looked at 12800/50000 samples.\n",
            "Looked at 25600/50000 samples.\n",
            "Looked at 38400/50000 samples.\n",
            "\n",
            "Train loss: 0.83077 | Test loss: 1.06460, Test acc: 63.50%\n",
            "\n",
            "Looked at 0/50000 samples.\n",
            "Looked at 12800/50000 samples.\n",
            "Looked at 25600/50000 samples.\n",
            "Looked at 38400/50000 samples.\n",
            "\n",
            "Train loss: 0.70669 | Test loss: 1.14192, Test acc: 61.18%\n",
            "\n",
            "Looked at 0/50000 samples.\n",
            "Looked at 12800/50000 samples.\n",
            "Looked at 25600/50000 samples.\n",
            "Looked at 38400/50000 samples.\n",
            "\n",
            "Train loss: 0.59437 | Test loss: 1.00540, Test acc: 66.91%\n",
            "\n",
            "Looked at 0/50000 samples.\n",
            "Looked at 12800/50000 samples.\n",
            "Looked at 25600/50000 samples.\n",
            "Looked at 38400/50000 samples.\n",
            "\n",
            "Train loss: 0.48204 | Test loss: 1.00644, Test acc: 69.09%\n",
            "\n",
            "Looked at 0/50000 samples.\n",
            "Looked at 12800/50000 samples.\n",
            "Looked at 25600/50000 samples.\n",
            "Looked at 38400/50000 samples.\n",
            "\n",
            "Train loss: 0.38073 | Test loss: 1.13411, Test acc: 65.25%\n",
            "\n",
            "Looked at 0/50000 samples.\n",
            "Looked at 12800/50000 samples.\n",
            "Looked at 25600/50000 samples.\n",
            "Looked at 38400/50000 samples.\n",
            "\n",
            "Train loss: 0.28723 | Test loss: 0.94035, Test acc: 73.32%\n",
            "\n",
            "Looked at 0/50000 samples.\n",
            "Looked at 12800/50000 samples.\n",
            "Looked at 25600/50000 samples.\n",
            "Looked at 38400/50000 samples.\n",
            "\n",
            "Train loss: 0.20949 | Test loss: 1.64679, Test acc: 63.08%\n",
            "\n",
            "Looked at 0/50000 samples.\n",
            "Looked at 12800/50000 samples.\n",
            "Looked at 25600/50000 samples.\n",
            "Looked at 38400/50000 samples.\n",
            "\n",
            "Train loss: 0.15661 | Test loss: 1.33210, Test acc: 70.94%\n",
            "\n",
            "Looked at 0/50000 samples.\n",
            "Looked at 12800/50000 samples.\n",
            "Looked at 25600/50000 samples.\n",
            "Looked at 38400/50000 samples.\n",
            "\n",
            "Train loss: 0.12111 | Test loss: 1.37808, Test acc: 71.13%\n",
            "\n",
            "Looked at 0/50000 samples.\n",
            "Looked at 12800/50000 samples.\n",
            "Looked at 25600/50000 samples.\n",
            "Looked at 38400/50000 samples.\n",
            "\n",
            "Train loss: 0.10584 | Test loss: 1.33083, Test acc: 72.18%\n",
            "\n",
            "Looked at 0/50000 samples.\n",
            "Looked at 12800/50000 samples.\n",
            "Looked at 25600/50000 samples.\n",
            "Looked at 38400/50000 samples.\n",
            "\n",
            "Train loss: 0.07791 | Test loss: 1.42755, Test acc: 73.24%\n",
            "\n",
            "Looked at 0/50000 samples.\n",
            "Looked at 12800/50000 samples.\n",
            "Looked at 25600/50000 samples.\n",
            "Looked at 38400/50000 samples.\n",
            "\n",
            "Train loss: 0.07226 | Test loss: 1.48428, Test acc: 73.71%\n",
            "\n",
            "Looked at 0/50000 samples.\n",
            "Looked at 12800/50000 samples.\n",
            "Looked at 25600/50000 samples.\n",
            "Looked at 38400/50000 samples.\n",
            "\n",
            "Train loss: 0.06515 | Test loss: 1.47730, Test acc: 73.31%\n",
            "\n",
            "Looked at 0/50000 samples.\n",
            "Looked at 12800/50000 samples.\n",
            "Looked at 25600/50000 samples.\n",
            "Looked at 38400/50000 samples.\n",
            "\n",
            "Train loss: 0.04810 | Test loss: 1.59894, Test acc: 73.63%\n",
            "\n",
            "Looked at 0/50000 samples.\n",
            "Looked at 12800/50000 samples.\n",
            "Looked at 25600/50000 samples.\n",
            "Looked at 38400/50000 samples.\n",
            "\n",
            "Train loss: 0.04989 | Test loss: 1.74474, Test acc: 71.75%\n",
            "\n",
            "Looked at 0/50000 samples.\n",
            "Looked at 12800/50000 samples.\n",
            "Looked at 25600/50000 samples.\n",
            "Looked at 38400/50000 samples.\n",
            "\n",
            "Train loss: 0.03848 | Test loss: 2.03993, Test acc: 72.19%\n",
            "\n",
            "Train time on cuda:0: 249.236 seconds\n"
          ]
        }
      ]
    },
    {
      "cell_type": "code",
      "source": [
        "def make_predictions(model: torch.nn.Module,\n",
        "                     data: list,\n",
        "                     device: torch.device = device):\n",
        "  pred_probs = []\n",
        "  model.to(device)\n",
        "  model.eval()\n",
        "  with torch.inference_mode():\n",
        "    for sample in data:\n",
        "      # Prepare the sample (add a batch dimension and pass to device)\n",
        "      sample = torch.unsqueeze(sample, dim=0).to(device)\n",
        "\n",
        "      # Forward Pass (model outputs raw logits)\n",
        "      pred_logit = model(sample)\n",
        "\n",
        "      # Get prediction probability (logit -> probability)\n",
        "      pred_prob = torch.softmax(pred_logit.squeeze(), dim=0)\n",
        "\n",
        "      # Get pred_prob off the GPU to further calculations\n",
        "      pred_probs.append(pred_prob.cpu())\n",
        "\n",
        "  # Stack the pred_probs to turn list into a tensor\n",
        "  return torch.stack(pred_probs)"
      ],
      "metadata": {
        "id": "vyDSXZp5bt7C"
      },
      "execution_count": null,
      "outputs": []
    },
    {
      "cell_type": "code",
      "source": [
        "k = 9\n",
        "\n",
        "import random\n",
        "#random.seed(32)\n",
        "test_samples = []\n",
        "test_labels = []\n",
        "for sample, label in random.sample(list(test_data), k):\n",
        "  test_samples.append(sample)\n",
        "  test_labels.append(label)\n",
        "\n",
        "test_samples[0].shape"
      ],
      "metadata": {
        "colab": {
          "base_uri": "https://localhost:8080/"
        },
        "id": "-Iyj2_3ViLOW",
        "outputId": "7b29160a-e593-4836-d171-b0ca70664b26"
      },
      "execution_count": null,
      "outputs": [
        {
          "output_type": "execute_result",
          "data": {
            "text/plain": [
              "torch.Size([3, 32, 32])"
            ]
          },
          "metadata": {},
          "execution_count": 89
        }
      ]
    },
    {
      "cell_type": "code",
      "source": [
        "len(test_samples)"
      ],
      "metadata": {
        "colab": {
          "base_uri": "https://localhost:8080/"
        },
        "id": "UwCKgVdui2HC",
        "outputId": "87739efe-0052-44bc-aeea-0f029cc98c10"
      },
      "execution_count": null,
      "outputs": [
        {
          "output_type": "execute_result",
          "data": {
            "text/plain": [
              "9"
            ]
          },
          "metadata": {},
          "execution_count": 90
        }
      ]
    },
    {
      "cell_type": "code",
      "source": [
        "# Make Predictions\n",
        "pred_probs = make_predictions(model=model_0,\n",
        "                             data=test_samples)\n",
        "\n",
        "# View the first two prediction probabilities\n",
        "pred_probs[:2]"
      ],
      "metadata": {
        "colab": {
          "base_uri": "https://localhost:8080/"
        },
        "id": "W6SPeb54hZPZ",
        "outputId": "fdcab0d1-7dc1-49df-fd08-2d5473962184"
      },
      "execution_count": null,
      "outputs": [
        {
          "output_type": "execute_result",
          "data": {
            "text/plain": [
              "tensor([[8.3180e-04, 1.6596e-05, 4.7733e-04, 9.9445e-01, 4.1473e-06, 2.6071e-03,\n",
              "         1.5996e-03, 1.3246e-07, 1.5814e-05, 7.8214e-07],\n",
              "        [3.0207e-11, 1.6887e-10, 3.2713e-03, 1.3138e-06, 9.9671e-01, 7.8914e-07,\n",
              "         1.9534e-05, 2.4092e-10, 2.1367e-10, 7.9515e-12]])"
            ]
          },
          "metadata": {},
          "execution_count": 91
        }
      ]
    },
    {
      "cell_type": "code",
      "source": [
        "r = random.randint(1, k-1)\n",
        "item = test_labels[r]\n",
        "\n",
        "plt.imshow(test_samples[r].cpu().numpy().transpose((1, 2, 0)), cmap=\"gray\");\n",
        "plt.title(class_names[test_labels[r]]);\n",
        "print(\"The actual class is:\", class_names[item])"
      ],
      "metadata": {
        "colab": {
          "base_uri": "https://localhost:8080/",
          "height": 470
        },
        "id": "pZxkjctNiTGm",
        "outputId": "2a73c69f-ce21-4999-8fd3-b66ca7e189c8"
      },
      "execution_count": null,
      "outputs": [
        {
          "output_type": "stream",
          "name": "stdout",
          "text": [
            "The actual class is: frog\n"
          ]
        },
        {
          "output_type": "display_data",
          "data": {
            "text/plain": [
              "<Figure size 640x480 with 1 Axes>"
            ],
            "image/png": "[encoded data removed]"
          },
          "metadata": {}
        }
      ]
    },
    {
      "cell_type": "code",
      "source": [
        "pred_classes = pred_probs.argmax(dim=1)\n",
        "pred_classes"
      ],
      "metadata": {
        "colab": {
          "base_uri": "https://localhost:8080/"
        },
        "id": "96unw6PDj0gU",
        "outputId": "35168e29-3966-42a1-9f2e-55e6c01f2850"
      },
      "execution_count": null,
      "outputs": [
        {
          "output_type": "execute_result",
          "data": {
            "text/plain": [
              "tensor([3, 4, 1, 6, 0, 8, 6, 4, 6])"
            ]
          },
          "metadata": {},
          "execution_count": 93
        }
      ]
    },
    {
      "cell_type": "code",
      "source": [
        "plt.figure(figsize=(9, 9))\n",
        "nrows = 3\n",
        "ncols = 3\n",
        "for i, sample in enumerate(test_samples):\n",
        "  # Create subplot\n",
        "  plt.subplot(nrows, ncols, i+1)\n",
        "\n",
        "  # Plot the target image\n",
        "  plt.imshow(sample.cpu().numpy().transpose((1, 2, 0)), cmap=\"gray\")\n",
        "\n",
        "  # Find the prediction in text form\n",
        "  pred_label = class_names[pred_classes[i]]\n",
        "\n",
        "  # Get the truth label\n",
        "  truth_label = class_names[test_labels[i]]\n",
        "\n",
        "  # Create a title for the plot\n",
        "  title_text = f\"Pred: {pred_label} | Truth: {truth_label}\"\n",
        "\n",
        "  # Check for equality and change title color accordingly\n",
        "  if pred_label == truth_label:\n",
        "      plt.title(title_text, fontsize=10, c=\"g\") # green text if correct\n",
        "  else:\n",
        "      plt.title(title_text, fontsize=10, c=\"r\") # red text if wrong\n",
        "  plt.axis(False);"
      ],
      "metadata": {
        "colab": {
          "base_uri": "https://localhost:8080/",
          "height": 749
        },
        "id": "342PRdsf8Sxz",
        "outputId": "37575e91-1d0e-4032-e063-ca0784ed0621"
      },
      "execution_count": null,
      "outputs": [
        {
          "output_type": "display_data",
          "data": {
            "text/plain": [
              "<Figure size 900x900 with 9 Axes>"
            ],
            "image/png": "[encoded data removed]"
          },
          "metadata": {}
        }
      ]
    }
  ]
}